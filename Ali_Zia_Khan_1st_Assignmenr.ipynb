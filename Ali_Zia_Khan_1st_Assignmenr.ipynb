{
  "nbformat": 4,
  "nbformat_minor": 0,
  "metadata": {
    "colab": {
      "name": "Ali Zia Khan 1st Assignmenr.ipynb",
      "provenance": [],
      "collapsed_sections": []
    },
    "kernelspec": {
      "name": "python3",
      "display_name": "Python 3"
    },
    "language_info": {
      "name": "python"
    }
  },
  "cells": [
    {
      "cell_type": "code",
      "execution_count": 7,
      "metadata": {
        "colab": {
          "base_uri": "https://localhost:8080/"
        },
        "id": "ppOsaNlKPXrH",
        "outputId": "be4e1e1c-8e2e-419d-e65a-a336c2cfe9ac"
      },
      "outputs": [
        {
          "output_type": "stream",
          "name": "stdout",
          "text": [
            "Twinkle,Twinkle,little Star\n",
            "\t\tHow I wonder what you are!\n",
            "\t\t\tUp above the world so High,\n",
            "\t\t\tLike a diamond in the sky\n",
            "Twinkle,Twinkle,little Star,\n",
            "\t\tHow I wonder what you are!\n"
          ]
        }
      ],
      "source": [
        "print(\"Twinkle,Twinkle,little Star\")\n",
        "print(\"\\t\\tHow I wonder what you are!\")\n",
        "print(\"\\t\\t\\tUp above the world so High,\")\n",
        "print(\"\\t\\t\\tLike a diamond in the sky\")\n",
        "print(\"Twinkle,Twinkle,little Star,\")\n",
        "print(\"\\t\\tHow I wonder what you are!\")"
      ]
    },
    {
      "cell_type": "code",
      "source": [
        "import sys\n",
        "print(sys.version)"
      ],
      "metadata": {
        "colab": {
          "base_uri": "https://localhost:8080/"
        },
        "id": "ZZhoIvykROO4",
        "outputId": "694570c9-557a-4960-ab96-910a27eb99a6"
      },
      "execution_count": 10,
      "outputs": [
        {
          "output_type": "stream",
          "name": "stdout",
          "text": [
            "3.7.12 (default, Sep 10 2021, 00:21:48) \n",
            "[GCC 7.5.0]\n"
          ]
        }
      ]
    },
    {
      "cell_type": "code",
      "source": [
        "from datetime import date\n",
        "today = date.today()\n",
        "print(\"Today's date:\", today)\n",
        "\n"
      ],
      "metadata": {
        "colab": {
          "base_uri": "https://localhost:8080/"
        },
        "id": "1DooLGZwSFxl",
        "outputId": "a479c22b-4cb1-46b3-f306-8a8af4f5f316"
      },
      "execution_count": 14,
      "outputs": [
        {
          "output_type": "stream",
          "name": "stdout",
          "text": [
            "Today's date: 2022-01-01\n"
          ]
        }
      ]
    },
    {
      "cell_type": "code",
      "source": [
        "from datetime import datetime\n",
        "\n",
        "now = datetime.now()\n",
        " \n",
        "print(\"Time  now\", now)"
      ],
      "metadata": {
        "colab": {
          "base_uri": "https://localhost:8080/"
        },
        "id": "pgwdxJNPTBX1",
        "outputId": "50fb8591-32ce-4ae9-ed70-fc6baa3e94fe"
      },
      "execution_count": 15,
      "outputs": [
        {
          "output_type": "stream",
          "name": "stdout",
          "text": [
            "Time  now 2022-01-01 06:21:05.753896\n"
          ]
        }
      ]
    },
    {
      "cell_type": "code",
      "source": [
        "PI=3.142\n",
        "user_input = float(input(\"Enter radius for the circle  :\"))\n",
        "x=PI*user_input*user_input\n",
        "print(\"Area of circle is :\", x)\n",
        "\n"
      ],
      "metadata": {
        "colab": {
          "base_uri": "https://localhost:8080/"
        },
        "id": "Ypu-ihs-TQz5",
        "outputId": "701a9c68-b038-443e-8b61-d6448f6c1690"
      },
      "execution_count": 17,
      "outputs": [
        {
          "output_type": "stream",
          "name": "stdout",
          "text": [
            "Enter radius for the circle  :3\n",
            "Area of circle is : 28.278\n"
          ]
        }
      ]
    },
    {
      "cell_type": "code",
      "source": [
        "\n",
        "first_name = input(\"Enter your first name  :\")\n",
        "last_name = input(\"Enter your last name  :\")\n",
        "fullname=last_name+\" \"+first_name\n",
        "print(\"NAME IN REVERSE IS :\", fullname)"
      ],
      "metadata": {
        "colab": {
          "base_uri": "https://localhost:8080/"
        },
        "id": "_9plNOpzUo0l",
        "outputId": "6c3ba1d5-9b88-4a6f-f129-91ad34125cf3"
      },
      "execution_count": 18,
      "outputs": [
        {
          "output_type": "stream",
          "name": "stdout",
          "text": [
            "Enter your first name  :Ali\n",
            "Enter your last name  :Zia Khan\n",
            "NAME IN REVERSE IS : Zia Khan Ali\n"
          ]
        }
      ]
    },
    {
      "cell_type": "code",
      "source": [
        "user_input_1 = float(input(\"Enter first number  :\"))\n",
        "user_input_2 = float(input(\"Enter second number  :\"))\n",
        "add=user_input_1 + user_input_2\n",
        "print(\"Addition of user inputted number is \",add)"
      ],
      "metadata": {
        "colab": {
          "base_uri": "https://localhost:8080/"
        },
        "id": "d7euMmnBVD98",
        "outputId": "1c03d097-e085-4697-83cb-4d7ca886e0f4"
      },
      "execution_count": 26,
      "outputs": [
        {
          "output_type": "stream",
          "name": "stdout",
          "text": [
            "Enter first number  :5\n",
            "Enter second number  :3\n",
            "Addition of user inputted number is  8.0\n"
          ]
        }
      ]
    }
  ]
}